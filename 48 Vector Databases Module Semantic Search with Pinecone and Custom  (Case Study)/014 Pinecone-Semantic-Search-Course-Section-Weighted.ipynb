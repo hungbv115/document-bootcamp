{
 "cells": [
  {
   "cell_type": "markdown",
   "metadata": {},
   "source": [
    "### Indexing: Creating a Chroma Vectorstore"
   ]
  },
  {
   "cell_type": "code",
   "execution_count": 1,
   "metadata": {},
   "outputs": [],
   "source": [
    "%load_ext dotenv\n",
    "%dotenv"
   ]
  },
  {
   "cell_type": "code",
   "execution_count": 2,
   "metadata": {},
   "outputs": [],
   "source": [
    "import pandas as pd"
   ]
  },
  {
   "cell_type": "code",
   "execution_count": 3,
   "metadata": {},
   "outputs": [],
   "source": [
    "files = pd.read_csv(\"course_section_descriptions.csv\", encoding='ANSI')"
   ]
  },
  {
   "cell_type": "markdown",
   "metadata": {},
   "source": [
    "## Data preprocessing"
   ]
  },
  {
   "cell_type": "code",
   "execution_count": 4,
   "metadata": {},
   "outputs": [
    {
     "name": "stderr",
     "output_type": "stream",
     "text": [
      "C:\\Users\\nikol\\AppData\\Local\\Continuum\\anaconda3\\envs\\langchain_env_24\\lib\\site-packages\\tqdm\\auto.py:21: TqdmWarning: IProgress not found. Please update jupyter and ipywidgets. See https://ipywidgets.readthedocs.io/en/stable/user_install.html\n",
      "  from .autonotebook import tqdm as notebook_tqdm\n"
     ]
    }
   ],
   "source": [
    "from sentence_transformers import SentenceTransformer\n",
    "import numpy as np\n",
    "\n",
    "# Assuming 'files' DataFrame is already defined and includes necessary columns\n",
    "\n",
    "# Define weights for different text components\n",
    "weight_course_name = 5\n",
    "weight_section_name = 3\n",
    "weight_section_description = 2\n",
    "weight_other = 1  # For other components like course technology and course description\n",
    "\n",
    "# Create a unique identifier for each section combining course_id and section_id\n",
    "files['unique_id'] = files['course_id'].astype(str) + '-' + files['section_id'].astype(str)\n",
    "\n",
    "# Create metadata for each section\n",
    "files['metadata'] = files.apply(lambda row: {\n",
    "    \"course_name\": row['course_name'],\n",
    "    \"section_name\": row['section_name'],\n",
    "    \"section_description\": row['section_description']\n",
    "}, axis=1)\n",
    "\n"
   ]
  },
  {
   "cell_type": "code",
   "execution_count": 5,
   "metadata": {},
   "outputs": [],
   "source": [
    "def create_embeddings(row):\n",
    "    # Encode individual components\n",
    "    emb_course_name = model.encode(row['course_name'], show_progress_bar=False) * weight_course_name\n",
    "    emb_section_name = model.encode(row['section_name'], show_progress_bar=False) * weight_section_name\n",
    "    emb_section_description = model.encode(row['section_description'], show_progress_bar=False) * weight_section_description\n",
    "    emb_course_tech = model.encode(row['course_technology'], show_progress_bar=False) * weight_other\n",
    "    emb_course_desc = model.encode(row['course_description'], show_progress_bar=False) * weight_other\n",
    "\n",
    "    # Combine embeddings by averaging them\n",
    "    combined_embedding = (emb_course_name + emb_section_name + emb_section_description + emb_course_tech + emb_course_desc) / (weight_course_name + weight_section_name + weight_section_description + 2 * weight_other)\n",
    "    return combined_embedding\n",
    "\n",
    "# Initialize the model\n",
    "model = SentenceTransformer('multi-qa-distilbert-cos-v1')\n",
    "\n",
    "# Apply the function to create weighted embeddings\n",
    "files['embedding'] = files.apply(create_embeddings, axis=1)\n"
   ]
  },
  {
   "cell_type": "markdown",
   "metadata": {},
   "source": [
    "## Embedding"
   ]
  },
  {
   "cell_type": "code",
   "execution_count": null,
   "metadata": {},
   "outputs": [],
   "source": []
  },
  {
   "cell_type": "code",
   "execution_count": null,
   "metadata": {},
   "outputs": [],
   "source": []
  },
  {
   "cell_type": "markdown",
   "metadata": {},
   "source": [
    "## Connect to Pinecone Index"
   ]
  },
  {
   "cell_type": "code",
   "execution_count": 6,
   "metadata": {},
   "outputs": [],
   "source": [
    "import os\n",
    "from pinecone import Pinecone, ServerlessSpec"
   ]
  },
  {
   "cell_type": "code",
   "execution_count": 7,
   "metadata": {},
   "outputs": [],
   "source": [
    "from dotenv import load_dotenv, find_dotenv"
   ]
  },
  {
   "cell_type": "code",
   "execution_count": 8,
   "metadata": {},
   "outputs": [
    {
     "data": {
      "text/plain": [
       "True"
      ]
     },
     "execution_count": 8,
     "metadata": {},
     "output_type": "execute_result"
    }
   ],
   "source": [
    "load_dotenv(find_dotenv(), override = True)"
   ]
  },
  {
   "cell_type": "code",
   "execution_count": 9,
   "metadata": {},
   "outputs": [],
   "source": [
    "import pinecone\n",
    "pc = Pinecone(api_key = os.environ.get(\"PINECONE_API_KEY\"), environment = os.environ.get(\"PINECONE_ENV\"))"
   ]
  },
  {
   "cell_type": "code",
   "execution_count": 10,
   "metadata": {},
   "outputs": [],
   "source": [
    "index = pc.Index(\"my-index\")"
   ]
  },
  {
   "cell_type": "code",
   "execution_count": 11,
   "metadata": {},
   "outputs": [
    {
     "data": {
      "text/plain": [
       "{}"
      ]
     },
     "execution_count": 11,
     "metadata": {},
     "output_type": "execute_result"
    }
   ],
   "source": [
    "index.delete(delete_all = True)"
   ]
  },
  {
   "cell_type": "code",
   "execution_count": 12,
   "metadata": {},
   "outputs": [],
   "source": [
    "# Prepare the vectors for upserting\n",
    "vectors_to_upsert = [(row['unique_id'], row['embedding'].tolist(), row['metadata']) for index, row in files.iterrows()]\n",
    "\n",
    "\n"
   ]
  },
  {
   "cell_type": "code",
   "execution_count": 13,
   "metadata": {},
   "outputs": [
    {
     "name": "stdout",
     "output_type": "stream",
     "text": [
      "Data successfully upserted to Pinecone index.\n"
     ]
    }
   ],
   "source": [
    "\n",
    "# Upsert data\n",
    "index.upsert(vectors=vectors_to_upsert)\n",
    "\n",
    "print(\"Data successfully upserted to Pinecone index.\")"
   ]
  },
  {
   "cell_type": "code",
   "execution_count": 14,
   "metadata": {},
   "outputs": [],
   "source": [
    "# Ensure you've already initialized and configured Pinecone and the model\n",
    "# If not, you need to run the initialization code provided earlier\n",
    "\n",
    "# Create the query embedding\n",
    "query = \"lasso\"\n",
    "query_embedding = model.encode(query, show_progress_bar=False).tolist()\n",
    "\n",
    "\n",
    "\n"
   ]
  },
  {
   "cell_type": "code",
   "execution_count": 18,
   "metadata": {},
   "outputs": [],
   "source": [
    "query_results = index.query(\n",
    "   # namespace=\"my-index\",\n",
    "    vector=[query_embedding],\n",
    "    top_k=15,\n",
    "    include_metadata=True\n",
    ")"
   ]
  },
  {
   "cell_type": "code",
   "execution_count": 21,
   "metadata": {},
   "outputs": [],
   "source": [
    "import pprint"
   ]
  },
  {
   "cell_type": "code",
   "execution_count": 22,
   "metadata": {},
   "outputs": [],
   "source": [
    "score_threshold = 0.3"
   ]
  },
  {
   "cell_type": "code",
   "execution_count": 35,
   "metadata": {},
   "outputs": [
    {
     "name": "stdout",
     "output_type": "stream",
     "text": [
      "'Matched item ID: 56-492, Score: 0.619535148'\n",
      "'Course: Machine Learning with Ridge and Lasso Regression'\n",
      "('Section: Ridge and Lasso Regression – Practical Case, Description: In this section, we will walk '\n",
      " 'you through the implementation of ridge and lasso regression using sk-learn in Python. We apply '\n",
      " 'these methods to a real dataset in order to increase the performance of a regression algorithm '\n",
      " 'by preventing overfitting. Furthermore, we demonstrate how regularization works and uncover the '\n",
      " 'differences between ridge and lasso models.  ')\n",
      "'Matched item ID: 56-490, Score: 0.574204624'\n",
      "'Course: Machine Learning with Ridge and Lasso Regression'\n",
      "('Section: Regularization Basics, Description: As an introduction to the course, we explore the '\n",
      " 'concept of regularization and explain how it can be leveraged to prevent overfitting and '\n",
      " 'multicollinearity issues. In addition, we demonstrate the theoretical differences between the '\n",
      " 'mechanisms of ridge and lasso regression. ')\n",
      "'Matched item ID: 56-491, Score: 0.511270404'\n",
      "'Course: Machine Learning with Ridge and Lasso Regression'\n",
      "('Section: Setting Up The Environment, Description: If you’re new to programming with Python, we '\n",
      " 'recommend going through our Introduction to Jupyter course which details installing Anaconda and '\n",
      " 'Jupyter and features a tour of the Jupyter Environment. Here, we talk about the required '\n",
      " 'packages for applying ridge and lasso regression in Python. ')\n",
      "'Matched item ID: 101-705, Score: 0.378181607'\n",
      "'Course: The Machine Learning Algorithms A-Z'\n",
      "('Section: Ridge, Lasso, Elastic Net, Description: One way to limit some of the negatives of '\n",
      " 'linear regression is via regularization. We can regularize a linear regression model using '\n",
      " 'ridge, lasso, and elastic net algorithms. ')\n",
      "'Matched item ID: 49-459, Score: 0.301482052'\n",
      "'Course: Linear Algebra and Feature Selection'\n",
      "('Section: Principal Component Analysis (PCA), Description: In this part of the course, we explore '\n",
      " 'the Principal Component Analysis (PCA) - one of the most widely used algorithms for '\n",
      " \"dimensionality reduction. We'll demonstrate a practical example combining both feature \"\n",
      " 'extraction and feature selection techniques to achieve the desired goal - reducing the number of '\n",
      " 'dimensions in our dataset.')\n"
     ]
    }
   ],
   "source": [
    "# Assuming query_results are fetched and include metadata\n",
    "for match in query_results['matches']:\n",
    "    if match['score'] >= score_threshold:\n",
    "        course_details = match.get('metadata', {})\n",
    "        course_name = course_details.get('course_name', 'N/A')\n",
    "        section_name = course_details.get('section_name', 'N/A')\n",
    "        section_description = course_details.get('section_description', 'No description available')\n",
    "        \n",
    "        pprint.pprint(f\"Matched item ID: {match['id']}, Score: {match['score']}\")\n",
    "        pprint.pprint(f\"Course: {course_name}\")\n",
    "        pprint.pprint(f\"Section: {section_name}, Description: {section_description}\", width = 100) \n",
    "       #pprint.pprint() "
   ]
  },
  {
   "cell_type": "code",
   "execution_count": null,
   "metadata": {},
   "outputs": [],
   "source": []
  }
 ],
 "metadata": {
  "kernelspec": {
   "display_name": "langchain_env_24",
   "language": "python",
   "name": "langchain_env_24"
  },
  "language_info": {
   "codemirror_mode": {
    "name": "ipython",
    "version": 3
   },
   "file_extension": ".py",
   "mimetype": "text/x-python",
   "name": "python",
   "nbconvert_exporter": "python",
   "pygments_lexer": "ipython3",
   "version": "3.8.18"
  }
 },
 "nbformat": 4,
 "nbformat_minor": 5
}
