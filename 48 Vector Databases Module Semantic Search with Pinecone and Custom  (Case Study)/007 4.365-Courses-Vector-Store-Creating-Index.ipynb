{
 "cells": [
  {
   "cell_type": "code",
   "execution_count": 1,
   "metadata": {},
   "outputs": [
    {
     "name": "stderr",
     "output_type": "stream",
     "text": [
      "C:\\Users\\nikol\\AppData\\Local\\Continuum\\anaconda3\\envs\\langchain_env_24\\lib\\site-packages\\pinecone\\data\\index.py:1: TqdmWarning: IProgress not found. Please update jupyter and ipywidgets. See https://ipywidgets.readthedocs.io/en/stable/user_install.html\n",
      "  from tqdm.autonotebook import tqdm\n"
     ]
    }
   ],
   "source": [
    "import pandas as pd\n",
    "import os\n",
    "from pinecone import Pinecone, ServerlessSpec\n",
    "from dotenv import load_dotenv, find_dotenv\n",
    "import pinecone\n",
    "from sentence_transformers import SentenceTransformer"
   ]
  },
  {
   "cell_type": "code",
   "execution_count": 2,
   "metadata": {},
   "outputs": [],
   "source": [
    "files = pd.read_csv(\"course_descriptions.csv\", encoding = \"ANSI\")"
   ]
  },
  {
   "cell_type": "code",
   "execution_count": 6,
   "metadata": {},
   "outputs": [],
   "source": [
    "def create_course_description(row):\n",
    "    return f'''The course name is {row[\"course_name\"]}, the slug is {row[\"course_slug\"]},\n",
    "            the technology is {row[\"course_technology\"]} and the course topic is {row[\"course_topic\"]}'''"
   ]
  },
  {
   "cell_type": "code",
   "execution_count": 7,
   "metadata": {},
   "outputs": [
    {
     "name": "stdout",
     "output_type": "stream",
     "text": [
      "0      The course name is Introduction to Tableau, th...\n",
      "1      The course name is The Complete Data Visualiza...\n",
      "2      The course name is Introduction to R Programmi...\n",
      "3      The course name is Data Preprocessing with Num...\n",
      "4      The course name is Introduction to Data and Da...\n",
      "5      The course name is Data Cleaning and Preproces...\n",
      "6      The course name is Introduction to Business An...\n",
      "7      The course name is Data Analysis with Excel Pi...\n",
      "8      The course name is SQL, the slug is sql,\\n    ...\n",
      "9      The course name is Credit Risk Modeling in Pyt...\n",
      "10     The course name is Python Programmer Bootcamp,...\n",
      "11     The course name is SQL + Tableau + Python, the...\n",
      "12     The course name is Introduction to Jupyter, th...\n",
      "13     The course name is Statistics, the slug is sta...\n",
      "14     The course name is Mathematics, the slug is ma...\n",
      "15     The course name is Introduction to Excel, the ...\n",
      "16     The course name is Probability, the slug is pr...\n",
      "17     The course name is Starting a Career in Data S...\n",
      "18     The course name is SQL + Tableau, the slug is ...\n",
      "19     The course name is Time Series Analysis with P...\n",
      "20     The course name is Power BI, the slug is intro...\n",
      "21     The course name is Product Management for AI &...\n",
      "22     The course name is Git and GitHub, the slug is...\n",
      "23     The course name is Deep Learning with TensorFl...\n",
      "24     The course name is Deep Learning with TensorFl...\n",
      "25     The course name is Customer Analytics in Pytho...\n",
      "26     The course name is Web Scraping and API Fundam...\n",
      "27     The course name is Introduction to Python, the...\n",
      "28     The course name is Python for Finance, the slu...\n",
      "29     The course name is Machine Learning in Python,...\n",
      "30     The course name is Advanced Microsoft Excel, t...\n",
      "31     The course name is Convolutional Neural Networ...\n",
      "32     The course name is Data Strategy, the slug is ...\n",
      "33     The course name is Fashion Analytics with Tabl...\n",
      "34     The course name is Dates and Times in Python, ...\n",
      "35     The course name is SQL for Data Science Interv...\n",
      "36     The course name is Data Literacy, the slug is ...\n",
      "37     The course name is AI Applications for Busines...\n",
      "38     The course name is Linear Algebra and Feature ...\n",
      "39     The course name is Machine Learning with Naive...\n",
      "40     The course name is Machine Learning in Excel, ...\n",
      "41     The course name is Machine Learning with Suppo...\n",
      "42     The course name is A/B Testing in Python, the ...\n",
      "43     The course name is Machine Learning with Decis...\n",
      "44     The course name is Machine Learning with K-Nea...\n",
      "45     The course name is Machine Learning with Ridge...\n",
      "46     The course name is Data-Driven Business Growth...\n",
      "47     The course name is Corporate Strategy, the slu...\n",
      "48     The course name is Marketing Strategy, the slu...\n",
      "49     The course name is Negotiation, the slug is ne...\n",
      "50     The course name is Management, the slug is man...\n",
      "51     The course name is Persuasion and Influence, t...\n",
      "52     The course name is Excel for Project Managemen...\n",
      "53     The course name is Agile and Scrum Project Man...\n",
      "54     The course name is Project Management, the slu...\n",
      "55     The course name is Blockchain for Business, th...\n",
      "56     The course name is How to Think Like a Data Sc...\n",
      "57     The course name is Power Query and Data Modeli...\n",
      "58     The course name is Introduction to DAX, the sl...\n",
      "59     The course name is Building Business Reports U...\n",
      "60     The course name is The Machine Learning Proces...\n",
      "61     The course name is The Machine Learning Proces...\n",
      "62     The course name is Working with Text Files in ...\n",
      "63     The course name is Intermediate Python Program...\n",
      "64     The course name is Advanced SQL, the slug is a...\n",
      "65     The course name is FP&A: Building a Company's ...\n",
      "66     The course name is Fixed Income Investments, t...\n",
      "67     The course name is Accounting and Financial St...\n",
      "68     The course name is Fundamentals of Financial R...\n",
      "69     The course name is Building a 3-Statement Mode...\n",
      "70     The course name is Financial Ratio Analysis , ...\n",
      "71     The course name is Corporate Finance , the slu...\n",
      "72     The course name is Fundamentals of Financial M...\n",
      "73     The course name is Introduction to Industry an...\n",
      "74     The course name is Fundamentals of Equity Valu...\n",
      "75     The course name is Introduction to Equity Secu...\n",
      "76     The course name is Alternative Investments, th...\n",
      "77     The course name is Advanced Financial Reportin...\n",
      "78     The course name is Advanced Financial Reportin...\n",
      "79     The course name is Macroeconomics, the slug is...\n",
      "80     The course name is Who Does What in Finance, t...\n",
      "81     The course name is Investment Banking, the slu...\n",
      "82     The course name is Discounted Cash Flow Valuat...\n",
      "83     The course name is Multiples Valuation, the sl...\n",
      "84     The course name is LBO Modeling in Excel, the ...\n",
      "85     The course name is Math for Finance, the slug ...\n",
      "86     The course name is Derivatives, the slug is de...\n",
      "87     The course name is Portfolio Management, the s...\n",
      "88     The course name is Technical Analysis, the slu...\n",
      "89     The course name is The Machine Learning Algori...\n",
      "90     The course name is Customer Churn Analysis wit...\n",
      "91     The course name is Machine Learning Deep Dive:...\n",
      "92     The course name is Customer Engagement Analysi...\n",
      "93     The course name is Advanced SQL for Data Engin...\n",
      "94     The course name is Communication and Presentat...\n",
      "95     The course name is Intro to PowerPoint, the sl...\n",
      "96     The course name is Intro to ChatGPT and Genera...\n",
      "97     The course name is Data Analysis in Power BI w...\n",
      "98     The course name is Mastering Key Performance I...\n",
      "99     The course name is Sign-Up Flow Optimization A...\n",
      "100    The course name is Python for Social Media Ana...\n",
      "101    The course name is Intro to NLP for AI, the sl...\n",
      "102    The course name is Data Analysis with ChatGPT,...\n",
      "103    The course name is ChatGPT for Data Science, t...\n",
      "104    The course name is Intro to LLMs, the slug is ...\n",
      "105    The course name is Growth Analysis with SQL, P...\n",
      "Name: course_description_new, dtype: object\n"
     ]
    }
   ],
   "source": [
    "pd.set_option('display.max_rows', 106)\n",
    "files['course_description_new'] = files.apply(create_course_description, axis = 1)\n",
    "print(files[\"course_description_new\"])"
   ]
  },
  {
   "cell_type": "code",
   "execution_count": 8,
   "metadata": {},
   "outputs": [],
   "source": [
    "%load_ext dotenv\n",
    "%dotenv"
   ]
  },
  {
   "cell_type": "code",
   "execution_count": 9,
   "metadata": {},
   "outputs": [
    {
     "data": {
      "text/plain": [
       "True"
      ]
     },
     "execution_count": 9,
     "metadata": {},
     "output_type": "execute_result"
    }
   ],
   "source": [
    "load_dotenv(find_dotenv(), override = True)"
   ]
  },
  {
   "cell_type": "code",
   "execution_count": 10,
   "metadata": {},
   "outputs": [],
   "source": [
    "pc = Pinecone(api_key = os.environ.get(\"PINECONE_API_KEY\"), environment = os.environ.get(\"PINECONE_ENV\"))"
   ]
  },
  {
   "cell_type": "code",
   "execution_count": null,
   "metadata": {},
   "outputs": [],
   "source": []
  },
  {
   "cell_type": "code",
   "execution_count": null,
   "metadata": {},
   "outputs": [],
   "source": []
  },
  {
   "cell_type": "code",
   "execution_count": null,
   "metadata": {},
   "outputs": [],
   "source": []
  },
  {
   "cell_type": "code",
   "execution_count": null,
   "metadata": {},
   "outputs": [],
   "source": []
  },
  {
   "cell_type": "code",
   "execution_count": null,
   "metadata": {},
   "outputs": [],
   "source": []
  },
  {
   "cell_type": "code",
   "execution_count": null,
   "metadata": {},
   "outputs": [],
   "source": []
  },
  {
   "cell_type": "code",
   "execution_count": null,
   "metadata": {},
   "outputs": [],
   "source": []
  },
  {
   "cell_type": "code",
   "execution_count": null,
   "metadata": {},
   "outputs": [],
   "source": []
  }
 ],
 "metadata": {
  "kernelspec": {
   "display_name": "Python [conda env:langchain_env_24]",
   "language": "python",
   "name": "conda-env-langchain_env_24-py"
  },
  "language_info": {
   "codemirror_mode": {
    "name": "ipython",
    "version": 3
   },
   "file_extension": ".py",
   "mimetype": "text/x-python",
   "name": "python",
   "nbconvert_exporter": "python",
   "pygments_lexer": "ipython3",
   "version": "3.8.18"
  }
 },
 "nbformat": 4,
 "nbformat_minor": 4
}
